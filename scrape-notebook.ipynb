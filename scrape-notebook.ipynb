{
 "cells": [
  {
   "cell_type": "code",
   "execution_count": 11,
   "metadata": {},
   "outputs": [],
   "source": [
    "from bs4 import BeautifulSoup\n",
    "import requests\n",
    "\n",
    "\n",
    "headers = {'User-Agent': 'Mozilla/5.0 (Windows NT 10.0; Win64; x64) AppleWebKit/537.36 (KHTML, like Gecko) Chrome/100.0.4896.88 Safari/537.36'}\n"
   ]
  },
  {
   "cell_type": "code",
   "execution_count": 34,
   "metadata": {},
   "outputs": [
    {
     "name": "stdout",
     "output_type": "stream",
     "text": [
      "200\n"
     ]
    }
   ],
   "source": [
    "\n",
    "url = \"https://www.jobpaw.com/pont/professionnels.php?pageNum_RS_job=0&totalRows_RS_job=12298&id=55\"\n",
    "# url = \"https://www.jobpaw.com/pont/professionnels.php?id=55\"\n",
    "r =  requests.get(url, headers=headers)\n",
    "print(r.status_code)"
   ]
  },
  {
   "cell_type": "code",
   "execution_count": 42,
   "metadata": {},
   "outputs": [],
   "source": [
    "# creating the soup\n",
    "soup = BeautifulSoup(r.text,'html.parser')\n"
   ]
  },
  {
   "cell_type": "code",
   "execution_count": 44,
   "metadata": {},
   "outputs": [],
   "source": [
    "# grabbing the concerned table\n",
    "jobs = soup.find_all('tr')[8:-2]"
   ]
  },
  {
   "cell_type": "code",
   "execution_count": 5,
   "metadata": {},
   "outputs": [],
   "source": [
    "nextButton = soup.find_all('tr')[-1]\n",
    "nextButton = nextButton.find_all('li')\n",
    "numberOfPages = int(str(nextButton[2]).split('&')[0].split('=')[2])"
   ]
  },
  {
   "cell_type": "code",
   "execution_count": 6,
   "metadata": {},
   "outputs": [
    {
     "data": {
      "text/plain": [
       "245"
      ]
     },
     "execution_count": 6,
     "metadata": {},
     "output_type": "execute_result"
    }
   ],
   "source": [
    "numberOfPages"
   ]
  },
  {
   "cell_type": "code",
   "execution_count": 8,
   "metadata": {},
   "outputs": [],
   "source": [
    "allJobs = []\n",
    "for item in jobs:\n",
    "    listOfJobs = {\n",
    "        'institution' : item.find('td').text.strip(),\n",
    "        'link' : 'https://www.jobpaw.com/pont/professionnels.php' + item.find('a')['href'],\n",
    "        'titre' : item.find_all('td')[1].text.strip(),\n",
    "        'domaine' : item.find_all('td')[2].text.strip(),\n",
    "        'dateLimite' : item.find_all('td')[3].text.strip(),\n",
    "    }\n",
    "    allJobs.append(listOfJobs)"
   ]
  },
  {
   "cell_type": "markdown",
   "metadata": {},
   "source": [
    "=============================="
   ]
  },
  {
   "cell_type": "code",
   "execution_count": 20,
   "metadata": {},
   "outputs": [],
   "source": [
    "def getLastPage():\n",
    "    url = \"https://www.jobpaw.com/pont/professionnels.php?id=55\"\n",
    "    r =  requests.get(url, headers=headers)\n",
    "    soup = BeautifulSoup(r.text, 'html.parser')\n",
    "    lastPageButton = soup.find_all('tr')[-1].find_all('li')\n",
    "    numberOfPages = int(str(lastPageButton[2]).split('&')[0].split('=')[2])\n",
    "    return numberOfPages"
   ]
  },
  {
   "cell_type": "code",
   "execution_count": 25,
   "metadata": {},
   "outputs": [],
   "source": [
    "def getLastPage():\n",
    "    url = \"https://www.jobpaw.com/pont/professionnels.php?id=55\"\n",
    "    r =  requests.get(url, headers=headers)\n",
    "    soup = BeautifulSoup(r.text, 'html.parser')\n",
    "    lastPageButton = soup.find_all('tr')[-1].find_all('li')\n",
    "    numberOfPages = int(str(lastPageButton[2]).split('&')[0].split('=')[2])\n",
    "    return numberOfPages\n",
    "\n",
    "allJobs = []\n",
    "def getJobs(page):\n",
    "    \n",
    "    url = f'https://www.jobpaw.com/pont/professionnels.php?pageNum_RS_job={page}&id=55'\n",
    "    # url = \"https://www.jobpaw.com/pont/professionnels.php?id=55\"\n",
    "    r =  requests.get(url, headers=headers)\n",
    "    # creating the soup\n",
    "    soup = BeautifulSoup(r.text, 'html.parser')\n",
    "    # grabbing the concerned table\n",
    "    jobs = soup.find_all('tr')[8:-2]\n",
    "    \n",
    "    for item in jobs:\n",
    "        listOfJobs = {\n",
    "        'institution' : item.find('td').text.strip(),\n",
    "        'link' : 'https://www.jobpaw.com/pont/professionnels.php' + item.find('a')['href'],\n",
    "        'titre' : item.find_all('td')[1].text.strip(),\n",
    "        'domaine' : item.find_all('td')[2].text.strip(),\n",
    "        'dateLimite' : item.find_all('td')[3].text.strip()\n",
    "    }\n",
    "        allJobs.append(listOfJobs)\n",
    "    return allJobs"
   ]
  },
  {
   "cell_type": "code",
   "execution_count": 31,
   "metadata": {},
   "outputs": [
    {
     "name": "stdout",
     "output_type": "stream",
     "text": [
      "46\n"
     ]
    }
   ],
   "source": [
    "lastPage = getLastPage()\n",
    "for i in range(lastPage, lastPage + 1, 1):\n",
    "    getJobs(i)\n",
    "print(len(allJobs))\n",
    "# allJobs = []"
   ]
  },
  {
   "cell_type": "code",
   "execution_count": 45,
   "metadata": {},
   "outputs": [],
   "source": [
    "import pandas as pd\n",
    "pd.DataFrame(allJobs).to_excel('jobpaw.xlsx', index=False)"
   ]
  },
  {
   "cell_type": "code",
   "execution_count": 24,
   "metadata": {},
   "outputs": [
    {
     "data": {
      "text/plain": [
       "46"
      ]
     },
     "execution_count": 24,
     "metadata": {},
     "output_type": "execute_result"
    }
   ],
   "source": [
    "allJobs = []\n",
    "len(getJobs(245))"
   ]
  },
  {
   "cell_type": "code",
   "execution_count": 18,
   "metadata": {},
   "outputs": [
    {
     "data": {
      "text/plain": [
       "147"
      ]
     },
     "execution_count": 18,
     "metadata": {},
     "output_type": "execute_result"
    }
   ],
   "source": [
    "# allJobs = []\n",
    "getJobs(0)\n",
    "len(allJobs)"
   ]
  },
  {
   "cell_type": "code",
   "execution_count": null,
   "metadata": {},
   "outputs": [],
   "source": [
    "import pandas as pd\n",
    " \n",
    "a = pd.DataFrame(a)\n",
    "a.to_csv('jobpaw.csv')"
   ]
  },
  {
   "cell_type": "code",
   "execution_count": null,
   "metadata": {},
   "outputs": [],
   "source": [
    "for item in jobs:\n",
    "    if item != None:\n",
    "        # print(item)\n",
    "        institution = item.find('td').text.strip()\n",
    "        link = item.find('a')['href']\n",
    "        print('https://www.jobpaw.com/pont/professionnels.php' + link)   \n",
    "    else:\n",
    "        print('None')"
   ]
  },
  {
   "cell_type": "code",
   "execution_count": null,
   "metadata": {},
   "outputs": [],
   "source": [
    "jobs"
   ]
  },
  {
   "cell_type": "code",
   "execution_count": null,
   "metadata": {},
   "outputs": [],
   "source": [
    "list_of_jobs = jobs[0].find_all('td')\n",
    "for job in list_of_jobs:\n",
    "    institution = list_of_jobs[0].text\n",
    "    print(institution)\n",
    "    \n",
    "# jobs[0].find_all('td')[0].text.strip()"
   ]
  },
  {
   "cell_type": "code",
   "execution_count": null,
   "metadata": {},
   "outputs": [],
   "source": [
    "jobs[0].find_all('td')"
   ]
  },
  {
   "cell_type": "code",
   "execution_count": null,
   "metadata": {},
   "outputs": [],
   "source": [
    "jobs[0].find_all('td')[0].text.strip()"
   ]
  }
 ],
 "metadata": {
  "interpreter": {
   "hash": "a94f09328fd3e2fe90580e1b0af4127392053aec22d41566fb9ed67e92f0e9f0"
  },
  "kernelspec": {
   "display_name": "Python 3.8.8 ('base')",
   "language": "python",
   "name": "python3"
  },
  "language_info": {
   "codemirror_mode": {
    "name": "ipython",
    "version": 3
   },
   "file_extension": ".py",
   "mimetype": "text/x-python",
   "name": "python",
   "nbconvert_exporter": "python",
   "pygments_lexer": "ipython3",
   "version": "3.8.8"
  },
  "orig_nbformat": 4
 },
 "nbformat": 4,
 "nbformat_minor": 2
}
