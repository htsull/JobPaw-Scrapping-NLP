{
 "cells": [
  {
   "cell_type": "code",
   "execution_count": 1,
   "metadata": {},
   "outputs": [],
   "source": [
    "import pandas as pd\n",
    "import numpy as np"
   ]
  },
  {
   "cell_type": "code",
   "execution_count": 2,
   "metadata": {},
   "outputs": [],
   "source": [
    "data = pd.read_excel('jobDetails.xlsx')"
   ]
  },
  {
   "cell_type": "code",
   "execution_count": 3,
   "metadata": {},
   "outputs": [
    {
     "data": {
      "text/html": [
       "<div>\n",
       "<style scoped>\n",
       "    .dataframe tbody tr th:only-of-type {\n",
       "        vertical-align: middle;\n",
       "    }\n",
       "\n",
       "    .dataframe tbody tr th {\n",
       "        vertical-align: top;\n",
       "    }\n",
       "\n",
       "    .dataframe thead th {\n",
       "        text-align: right;\n",
       "    }\n",
       "</style>\n",
       "<table border=\"1\" class=\"dataframe\">\n",
       "  <thead>\n",
       "    <tr style=\"text-align: right;\">\n",
       "      <th></th>\n",
       "      <th>title</th>\n",
       "      <th>company</th>\n",
       "      <th>domain</th>\n",
       "      <th>speciality</th>\n",
       "      <th>publicationDate</th>\n",
       "      <th>limitDate</th>\n",
       "      <th>country</th>\n",
       "      <th>town</th>\n",
       "      <th>zone</th>\n",
       "      <th>duration</th>\n",
       "      <th>qualification</th>\n",
       "    </tr>\n",
       "  </thead>\n",
       "  <tbody>\n",
       "    <tr>\n",
       "      <th>0</th>\n",
       "      <td>Coordonnateur Technique Gestion des Cas, des P...</td>\n",
       "      <td>Programme des Nations Unies pour le Développem...</td>\n",
       "      <td>Santé et Professions médicales</td>\n",
       "      <td>Santé Publique</td>\n",
       "      <td>18 Avril 2022</td>\n",
       "      <td>23 Avril 2022</td>\n",
       "      <td>Haiti</td>\n",
       "      <td>Port-au-Prince</td>\n",
       "      <td>NaN</td>\n",
       "      <td>12 months</td>\n",
       "      <td>['Min. Academic Education', 'Licence ou maitri...</td>\n",
       "    </tr>\n",
       "    <tr>\n",
       "      <th>1</th>\n",
       "      <td>Conseiller (e) Technique Vaccination</td>\n",
       "      <td>Family Health International - FHI360</td>\n",
       "      <td>Santé et Professions médicales</td>\n",
       "      <td>Santé Publique</td>\n",
       "      <td>18 Avril 2022</td>\n",
       "      <td>22 Avril 2022</td>\n",
       "      <td>Haiti</td>\n",
       "      <td>Port-au-Prince</td>\n",
       "      <td>Nippes et Grand Anse</td>\n",
       "      <td>déterminée</td>\n",
       "      <td>['Qualifications requises : ', 'Formation médi...</td>\n",
       "    </tr>\n",
       "    <tr>\n",
       "      <th>2</th>\n",
       "      <td>Assistant Finance</td>\n",
       "      <td>Mercy Corps Haiti</td>\n",
       "      <td>Management/Gestion, Finance, Comptabilité et C...</td>\n",
       "      <td>Finance et Banque</td>\n",
       "      <td>16 Avril 2022</td>\n",
       "      <td>22 Avril 2022</td>\n",
       "      <td>Haiti</td>\n",
       "      <td>Port-au-Prince</td>\n",
       "      <td>Port au prince avec Deplacement sur le terrain</td>\n",
       "      <td>Indéterminée</td>\n",
       "      <td>['Deux ans ou plus dans la comptabilité ou exp...</td>\n",
       "    </tr>\n",
       "    <tr>\n",
       "      <th>3</th>\n",
       "      <td>Assistante Administrative</td>\n",
       "      <td>Family Health International - FHI360</td>\n",
       "      <td>Santé et Professions médicales</td>\n",
       "      <td>Santé Publique</td>\n",
       "      <td>14 Avril 2022</td>\n",
       "      <td>22 Avril 2022</td>\n",
       "      <td>Haiti</td>\n",
       "      <td>Port-au-Prince</td>\n",
       "      <td>Port-au-Prince</td>\n",
       "      <td>Indéterminée</td>\n",
       "      <td>['Formation et Expériences :', 'Avoir au moins...</td>\n",
       "    </tr>\n",
       "    <tr>\n",
       "      <th>4</th>\n",
       "      <td>Technicien/ne de programme :Engagement Communa...</td>\n",
       "      <td>Concern Worldwide Haiti</td>\n",
       "      <td>Sciences Humaines et Sociales</td>\n",
       "      <td>Sciences Sociales</td>\n",
       "      <td>12 Avril 2022</td>\n",
       "      <td>22 Avril 2022</td>\n",
       "      <td>Haiti</td>\n",
       "      <td>Port-au-Prince</td>\n",
       "      <td>Le poste est basé à Port-au-Prince avec des dé...</td>\n",
       "      <td>Déterminée</td>\n",
       "      <td>['Diplôme universitaire en Psychologie, Assist...</td>\n",
       "    </tr>\n",
       "  </tbody>\n",
       "</table>\n",
       "</div>"
      ],
      "text/plain": [
       "                                               title  \\\n",
       "0  Coordonnateur Technique Gestion des Cas, des P...   \n",
       "1               Conseiller (e) Technique Vaccination   \n",
       "2                                  Assistant Finance   \n",
       "3                          Assistante Administrative   \n",
       "4  Technicien/ne de programme :Engagement Communa...   \n",
       "\n",
       "                                             company  \\\n",
       "0  Programme des Nations Unies pour le Développem...   \n",
       "1               Family Health International - FHI360   \n",
       "2                                  Mercy Corps Haiti   \n",
       "3               Family Health International - FHI360   \n",
       "4                            Concern Worldwide Haiti   \n",
       "\n",
       "                                              domain         speciality  \\\n",
       "0                     Santé et Professions médicales     Santé Publique   \n",
       "1                     Santé et Professions médicales     Santé Publique   \n",
       "2  Management/Gestion, Finance, Comptabilité et C...  Finance et Banque   \n",
       "3                     Santé et Professions médicales     Santé Publique   \n",
       "4                      Sciences Humaines et Sociales  Sciences Sociales   \n",
       "\n",
       "  publicationDate      limitDate country            town  \\\n",
       "0   18 Avril 2022  23 Avril 2022   Haiti  Port-au-Prince   \n",
       "1   18 Avril 2022  22 Avril 2022   Haiti  Port-au-Prince   \n",
       "2   16 Avril 2022  22 Avril 2022   Haiti  Port-au-Prince   \n",
       "3   14 Avril 2022  22 Avril 2022   Haiti  Port-au-Prince   \n",
       "4   12 Avril 2022  22 Avril 2022   Haiti  Port-au-Prince   \n",
       "\n",
       "                                                zone      duration  \\\n",
       "0                                                NaN     12 months   \n",
       "1                               Nippes et Grand Anse    déterminée   \n",
       "2     Port au prince avec Deplacement sur le terrain  Indéterminée   \n",
       "3                                     Port-au-Prince  Indéterminée   \n",
       "4  Le poste est basé à Port-au-Prince avec des dé...    Déterminée   \n",
       "\n",
       "                                       qualification  \n",
       "0  ['Min. Academic Education', 'Licence ou maitri...  \n",
       "1  ['Qualifications requises : ', 'Formation médi...  \n",
       "2  ['Deux ans ou plus dans la comptabilité ou exp...  \n",
       "3  ['Formation et Expériences :', 'Avoir au moins...  \n",
       "4  ['Diplôme universitaire en Psychologie, Assist...  "
      ]
     },
     "execution_count": 3,
     "metadata": {},
     "output_type": "execute_result"
    }
   ],
   "source": [
    "data.head()"
   ]
  },
  {
   "cell_type": "code",
   "execution_count": 4,
   "metadata": {},
   "outputs": [],
   "source": [
    "# data['temp'] = np.where(data.company == 'Catholic Relief Services', 'International NGO', 'NA')"
   ]
  },
  {
   "cell_type": "code",
   "execution_count": 5,
   "metadata": {},
   "outputs": [],
   "source": [
    "# data['companyType'] = data.company"
   ]
  },
  {
   "cell_type": "code",
   "execution_count": 6,
   "metadata": {},
   "outputs": [],
   "source": [
    "# def get_company_type(setCompany, type):\n",
    "#     data['companyType'] = np.where(data['company'] == setCompany, type, '')"
   ]
  },
  {
   "cell_type": "code",
   "execution_count": 7,
   "metadata": {},
   "outputs": [],
   "source": [
    "# data['companyType'] = np.where(data.company == 'Plan International-Haiti', 'International NGO', 'NA')"
   ]
  },
  {
   "cell_type": "code",
   "execution_count": 8,
   "metadata": {},
   "outputs": [],
   "source": [
    "# data['companyType'].value_counts()"
   ]
  },
  {
   "cell_type": "code",
   "execution_count": 9,
   "metadata": {},
   "outputs": [],
   "source": [
    "# data[data.company == 'Concern Worldwide Haiti'].shape"
   ]
  },
  {
   "cell_type": "code",
   "execution_count": 10,
   "metadata": {},
   "outputs": [],
   "source": [
    "intNGOList = ['Catholic Relief Services', 'Plan International-Haiti', 'Save the Children en Haiti', \"Meds & Food for Kids\",\n",
    "        'Concern Worldwide Haiti', 'CARE Haiti', 'GOAL Haiti',  \"J/P Haitian Relief Organization\", \"Good Neighbors International\",\n",
    "        'Organisation Haïtienne de Maketing Social pour la Santé (PSI-Haïti)', 'Management Sciences for Health', \"Clean Cooking Alliance\",\n",
    "        'Croix Rouge Americaine', 'Programme des Nations Unies pour le Développement - Haiti',\"American Refugee Committee\",\n",
    "        \"Organisation des Nations Unies pour l'Alimentation et l'Agriculture\", 'Jhpiego', 'Zanmi Lasante/PIH', \"DAI/PSP\", 'OPS/OMS',\n",
    "        'Mercy Corps Haiti', 'USAID|Haiti/AVANSE','Oxfam Intermon', \"Federation Handicap International\", \"Avocats sans frontières Canada\",\n",
    "        \"World Vision Haiti\", \"Action Contre la Faim - Haïti\", \"Food for the Hungry\", \"international\", \"Christian Blind Mission\",\n",
    "        \"Chemonics / GHSC-PSM\", \"International Federation of Red Cross and Red Crescent Societies\",'The Vitamin Angels Alliance, Inc. (VA)',\n",
    "        \"Habitat for Humanity International\", \"DAI/WASH\",\"Chemonics International / Projet de reboisement USAID\",\n",
    "        \"Solidarites International Haiti\", \"Croix Rouge Canadienne\", \"HELVETAS Swiss Intercooperation/Haiti\",'Entrepreneurs du Monde',\n",
    "        \"US Agency for International Developmen\", \"Pan American Development Foundation /Haiti\", \"Ann Ale / FHI360\",\n",
    "        \"Catholic Relief Services - Cayes\", \"Organisation Internationale pour les Migrations\",\"Oxfam Intermon - Artibonite\"\n",
    "        \"Heifer International Haiti\", \"Chemonics International / Projustice\", \"Croix Rouge Espagnole\",\"Croix Rouge Suisse\",\n",
    "        \"Oxfam Quebec\", \"Habitat pour l'humanite Haiti\", \"Family Health International\",\"ACTED\", \"Sommets Education / ZL\",\n",
    "        \"Family Health International - FHI360\", \"International Committee of Red Cross\",\"Entrepreneurs du Monde/Palmis Mikwofinans Sosya\",\n",
    "        \"Chemonics International/Cookstove\", \"WeltHungerHilfe (Agro Action Allemande)\", \"Diakonie Katastrophenhilfe\",\n",
    "        \"Management Sciences for Health\", \"Croix Rouge Allemande (DRK)\", \"Family Health International - FHI360\",'World Relief Haiti',\n",
    "        \"Organisation Internationale de la Francophonie\", \"Croix Rouge Americaine\", \"Oxfam Intermon - PAP\", \"DAI Global, LLC\",\n",
    "        \"Chemonics / IFMS\", \"United Methodist Committee On Relief\", 'Living Water International',\"Interchurch Medical Assistance World Health\",\n",
    "        \"Lumos Foundation\", \"Project Concern International - Haiti\", \"Chemonics International / Haiti HSS\", \"MSI - KONEKTE\",\n",
    "        \"Haiti Recovery Initiative\", \"Caritas Suisse\",\"Action Aid\", \"Caris Foundation International\",\"Compassion International - Haiti\",\n",
    "        \"Winrock International\",\"Entrepreneurs du Monde/Palmis Mikwofinans Sosyal\", \"Fonds des Nations Unies pour la Population\",\n",
    "        \"Croix Rouge Nerlandaise\", \"US Agency for International Development\", 'Compassion Health', 'NOVA Hope for Haiti',\n",
    "        \"Fondation Mission de l'Espoir\", 'Management Systems International (MSI)',\"Agronomes et Veterinaires sans Frontières\",\n",
    "        \"Cooperazione Internazionale\", \"Care to Communities\",'Médecins du Monde - Canada', \"Chemonics International/Feed the Future\",\n",
    "        'Catholic Medical Mission Board',\"Compassion International Haiti\",\"Institut Interaméricain de Coopération pour l'Agriculture\"]\n",
    "\n",
    "public = [\"MSPP / Unite de Gestion du Projet PEPFAR\", \"Hopital Universitaire de la Paix\",'Nos petits freres et sœurs - Haiti',\n",
    "          \"MARNDR / Projet d'Urgence de Renforcement de la Résilience des Agriculteurs au COVID-19\",\"Clinton Health Access Initiative\",\n",
    "          'Institut National Superieur de Formation de sage-femme', \"Unité Technique d'Exécution du Ministère de l'Economie et des Finances\",\n",
    "          'MSPP- Unité de Coordination des Maladies Infectieuses et  Transmissibles','Project Medishare for Haiti', 'Hope for Haiti',\n",
    "          'Laboratoire National de Sante Publique','Unité de Gestion de Projet','FINCA Haiti S.A.','Medicines for Humanity',\n",
    "          'Médecins Sans Frontières Belgique','Sustainaible Organic Integrated Livelihoods',\"Heifer International Haiti\",\n",
    "          'Holt International Children Services',\"Banque de la République d'Haiti\",'Centre de Facilitation des Investissements',\n",
    "          \"MARNDR/Projet de Renforcement des Services Publics Agricoles\",\"Abt Associates Haiti / Shops Plus Project USAID\", \n",
    "          \"Fonds d'Assistance Economique et Sociale\", \"Ministère de la justice et de la sécurité publique\", \n",
    "          \"Unité de Coordination du Programme de Formation Professionnelle/INFP\"]\n",
    "\n",
    "private = [\"prive\", \"ProCroissance S.A.\", \"Palmis Eneji\", \"Kotelam\", \"VOILA\",\"Unigestion Holding S.A./Digicel\", \"Sustainability Ventures S.A.\",\n",
    "           \"Everest Apparel (Haiti) S.A.\", \"Capital Bank S.A.\", \"JobPaw\", \"CITAD\",\"Cimenterie Nationale S.A.\",'Saint Jean Capital',\n",
    "           'Haiti Business Center_ Henry & Wallace','Mint Modulaire S.A.', 'Brasserie de la Couronne S.A. (BRACOUR)','CEMEX HAITI',\n",
    "           \"Centre de Formation et d'Encadrement Technique S.A.\",\"Centre d'Entrepreneurship et de Leadership en Haiti\",\n",
    "           \"Banque de l'Union Haitienne\",\"Global Communities - (formerly CHF)\",\"Institut des Sciences, des Technologies et des Études Avancées d'Haïti\"]\n",
    "           \n",
    "localNGO = [\"Sevis Finansye Fonkoze S.A.\", \"Centres pour le Développement et la Santé\", \"Groupe de Recherche et d'Echanges Technologiques\", \n",
    "        \"Protos Haïti\",\"Haiti Staffing & Business Resources\", \"Fondation Serovie\", \"SOS Villages d'Enfants Haiti\",'Solidarité Union Coopération',\n",
    "        \"The Fondwa Creole Institute\", \"KonbitSante:Cap Haitien Health Partnership\",\"Fondation GEORGES pour le Developpement\", \n",
    "        \"Institut pour la Sante, la Population et le Développement\", \"Haitian Education and Leadership Program\",\"ACDI/VOCA\",\n",
    "        \"Organisation de Développement Rural Intégré du Nord'Ouest\",\"Fondation pour la Réalisation des Programmes Sociaux Nationaux\"\n",
    "        'Research Triangle Institute / Act to End NTDs Project', \"Centre d'études et de cooperation internationale\",'Fondasyon Kole Zepol',\n",
    "        'Fondasyon Depase Fwontyè', 'Fonds Haïtien pour la Biodiversité','Konbit Sante  Health Partnership','Consortium Progettomondo/CISV',\n",
    "        'Centre Haitien pour le Renforcement du Système de Santé',\"Projet d'appui technique en Haïti\",\n",
    "        'Association pour la Promotion de la Famille Haitienne',\"Commission Intérimaire pour la Reconstruction d'Haïti\"]\n",
    "\n",
    "international = [\"British Embassy (FCO - Gov.UK)\", \"American Institutes for Research\", \"Taxback International\", \"Ambassade de Suisse\", \n",
    "        \"University Research Company - Haiti\", \"HelpAge Internartional Haiti\",\"British Red Cross\",'US Embassy Port-au-Prince', \"World Bank\",\n",
    "        \"Bureau de la Coopération Suisse\", \"Ambassade du Canada\",'Research Triangle Institute / Act to End NTDs Project', 'Industrias San Miguel',\n",
    "        'JSI Research & Training Institute Inc','University of California San Francisco',\"Research Triangle Institute\"]\n",
    "\n",
    "others  = [\"Organisation à but non lucratif\", \"projet\", 'STRATEGYS','Santé Monde','Institution Financière',\n",
    "           \"Projet d'Appui a l'Irrigation dans le Sud\",'Americares',\"Build Change\", 'ong']"
   ]
  },
  {
   "cell_type": "code",
   "execution_count": 11,
   "metadata": {},
   "outputs": [],
   "source": [
    "data['companyType'] = 'Others'\n",
    "data.loc[data.company.isin(international), 'companyType'] = 'International'\n",
    "data.loc[data.company.isin(public), 'companyType'] = 'Public'\n",
    "data.loc[data.company.isin(private), 'companyType'] = 'Private'\n",
    "data.loc[data.company.isin(intNGOList), 'companyType'] = 'International NGO'\n",
    "data.loc[data.company.isin(localNGO), 'companyType'] = 'Local NGO'"
   ]
  },
  {
   "cell_type": "code",
   "execution_count": 12,
   "metadata": {},
   "outputs": [
    {
     "data": {
      "text/plain": [
       "Index(['title', 'company', 'domain', 'speciality', 'publicationDate',\n",
       "       'limitDate', 'country', 'town', 'zone', 'duration', 'qualification',\n",
       "       'companyType'],\n",
       "      dtype='object')"
      ]
     },
     "execution_count": 12,
     "metadata": {},
     "output_type": "execute_result"
    }
   ],
   "source": [
    "data.columns"
   ]
  },
  {
   "cell_type": "code",
   "execution_count": 13,
   "metadata": {},
   "outputs": [],
   "source": [
    "data['year'] = \"\"\n",
    "data['month'] = \"\"\n",
    "data['day'] = \"\"\n",
    "for i, j in enumerate(data.publicationDate):\n",
    "    data['month'][i] = j.split(' ')[1]\n",
    "    data['day'][i] = j.split(' ')[0]\n",
    "    data['year'][i] = j.split(' ')[2]\n"
   ]
  },
  {
   "cell_type": "code",
   "execution_count": 14,
   "metadata": {},
   "outputs": [],
   "source": [
    "monthDict = {\n",
    "    'Jan': '01', 'Fév': '02', 'Mars': '03', 'Avril': '04', 'Mai': '05', 'Juin' : '06', \n",
    "    'Juil' : '07', 'Aout' : '08', 'Sept' : '09', 'Oct' : '10', 'Nov' : '11', 'Dec' : '12'\n",
    "}"
   ]
  },
  {
   "cell_type": "code",
   "execution_count": 15,
   "metadata": {},
   "outputs": [],
   "source": [
    "data['monthInt'] = \"\"\n",
    "for i, j in enumerate(data.month):\n",
    "    if j in monthDict.keys():\n",
    "        data['monthInt'][i] = monthDict[j]"
   ]
  },
  {
   "cell_type": "code",
   "execution_count": 23,
   "metadata": {},
   "outputs": [],
   "source": [
    "t = data.monthInt[0] +'/' + data.day[0] + '/' + data.year[0]"
   ]
  },
  {
   "cell_type": "code",
   "execution_count": 26,
   "metadata": {},
   "outputs": [
    {
     "data": {
      "text/plain": [
       "'2022-04-18'"
      ]
     },
     "execution_count": 26,
     "metadata": {},
     "output_type": "execute_result"
    }
   ],
   "source": [
    "from datetime import datetime\n",
    "t = datetime(int(data.year[0]), int(data.monthInt[0]), int(data.day[0]))\n",
    "datetime.strftime(t, '%Y-%m-%d')"
   ]
  },
  {
   "cell_type": "code",
   "execution_count": null,
   "metadata": {},
   "outputs": [],
   "source": []
  },
  {
   "cell_type": "code",
   "execution_count": 163,
   "metadata": {},
   "outputs": [
    {
     "data": {
      "text/plain": [
       "array(['Avril', 'Mars', 'Fév', 'Oct', 'Sept', 'Jan', 'Dec', 'Nov', 'Aout',\n",
       "       'Juil', 'Juin', 'Mai'], dtype=object)"
      ]
     },
     "execution_count": 163,
     "metadata": {},
     "output_type": "execute_result"
    }
   ],
   "source": [
    "data.month.unique()"
   ]
  },
  {
   "cell_type": "code",
   "execution_count": 117,
   "metadata": {},
   "outputs": [
    {
     "data": {
      "text/plain": [
       "array(['18', '16', '14', '12', '11', '8', '23', '6', '28', '7', '4', '1',\n",
       "       '30', '5', '29', '17', '22', '25', '21', '24', '26', '9', '10',\n",
       "       '20', '27', '3', '2', '15', '13', '31', '19'], dtype=object)"
      ]
     },
     "execution_count": 117,
     "metadata": {},
     "output_type": "execute_result"
    }
   ],
   "source": [
    "data.day.unique()"
   ]
  },
  {
   "cell_type": "code",
   "execution_count": 106,
   "metadata": {},
   "outputs": [
    {
     "data": {
      "text/plain": [
       "0        Fév\n",
       "1        Fév\n",
       "2        Fév\n",
       "3        Fév\n",
       "4        Fév\n",
       "        ... \n",
       "12060    Fév\n",
       "12061    Fév\n",
       "12062    Fév\n",
       "12063    Fév\n",
       "12064    Fév\n",
       "Name: month, Length: 12065, dtype: object"
      ]
     },
     "execution_count": 106,
     "metadata": {},
     "output_type": "execute_result"
    }
   ],
   "source": [
    "data['month']"
   ]
  },
  {
   "cell_type": "code",
   "execution_count": null,
   "metadata": {},
   "outputs": [],
   "source": []
  },
  {
   "cell_type": "code",
   "execution_count": null,
   "metadata": {},
   "outputs": [],
   "source": []
  },
  {
   "cell_type": "code",
   "execution_count": null,
   "metadata": {},
   "outputs": [],
   "source": []
  }
 ],
 "metadata": {
  "interpreter": {
   "hash": "a94f09328fd3e2fe90580e1b0af4127392053aec22d41566fb9ed67e92f0e9f0"
  },
  "kernelspec": {
   "display_name": "Python 3.8.8 ('base')",
   "language": "python",
   "name": "python3"
  },
  "language_info": {
   "codemirror_mode": {
    "name": "ipython",
    "version": 3
   },
   "file_extension": ".py",
   "mimetype": "text/x-python",
   "name": "python",
   "nbconvert_exporter": "python",
   "pygments_lexer": "ipython3",
   "version": "3.8.8"
  },
  "orig_nbformat": 4
 },
 "nbformat": 4,
 "nbformat_minor": 2
}
